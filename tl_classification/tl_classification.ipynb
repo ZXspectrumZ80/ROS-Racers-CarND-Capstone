{
 "cells": [
  {
   "cell_type": "code",
   "execution_count": 1,
   "metadata": {},
   "outputs": [],
   "source": [
    "import tensorflow as tf\n",
    "import cv2\n",
    "import os\n",
    "import numpy as np\n",
    "from PIL import Image\n"
   ]
  },
  {
   "cell_type": "code",
   "execution_count": 2,
   "metadata": {},
   "outputs": [
    {
     "name": "stdout",
     "output_type": "stream",
     "text": [
      "Loading graph...\n",
      "Graph loaded!\n",
      "(3, 0.99895006)\n",
      "GREEN\n",
      "(2, 0.98773175)\n",
      "YELLOW\n",
      "(1, 0.99992704)\n",
      "RED\n",
      "UNKNOWN\n"
     ]
    }
   ],
   "source": [
    "MODEL_NAME = 'output/faster_rcnn_inception_v2_coco_sim'\n",
    "PATH_TO_CKPT = MODEL_NAME + '/frozen_inference_graph.pb'\n",
    "\n",
    "def load_image_into_numpy_array(image):\n",
    "  (im_width, im_height) = image.size\n",
    "  return np.array(image.getdata()).reshape(\n",
    "      (im_height, im_width, 3)).astype(np.uint8)\n",
    "\n",
    "class TLClassifier(object):\n",
    "    def __init__(self):\n",
    "        detection_graph = TLClassifier.load_graph()\n",
    "        self.detection_graph = detection_graph\n",
    "        self.sess = tf.Session(graph=detection_graph)\n",
    "        self.image_tensor = detection_graph.get_tensor_by_name('image_tensor:0')\n",
    "        self.detection_boxes = detection_graph.get_tensor_by_name('detection_boxes:0')\n",
    "        self.detection_scores = detection_graph.get_tensor_by_name('detection_scores:0')\n",
    "        self.detection_classes = detection_graph.get_tensor_by_name('detection_classes:0')\n",
    "        self.num_detections = detection_graph.get_tensor_by_name('num_detections:0')\n",
    "\n",
    "\n",
    "    @staticmethod\n",
    "    def load_graph():\n",
    "        detection_graph = tf.Graph()\n",
    "        print(\"Loading graph...\")\n",
    "        with detection_graph.as_default():\n",
    "            od_graph_def = tf.GraphDef()\n",
    "            with tf.gfile.GFile(PATH_TO_CKPT, 'rb') as fid:\n",
    "                serialized_graph = fid.read()\n",
    "                od_graph_def.ParseFromString(serialized_graph)\n",
    "                tf.import_graph_def(od_graph_def, name='')\n",
    "        print(\"Graph loaded!\")\n",
    "        return detection_graph\n",
    "\n",
    "    def get_classification(self, image):\n",
    "        # Expand dimensions since the model expects images to have shape: [1, None, None, 3]\n",
    "        image_np_expanded = np.expand_dims(image, axis=0)\n",
    "\n",
    "        # Actual detection.\n",
    "        (boxes, scores, classes, num) = self.sess.run(\n",
    "            [self.detection_boxes, self.detection_scores, self.detection_classes, self.num_detections],\n",
    "            feed_dict={self.image_tensor: image_np_expanded})\n",
    "\n",
    "        boxes = np.squeeze(boxes)\n",
    "        scores = np.squeeze(scores)\n",
    "        classes = np.squeeze(classes).astype(np.int32)\n",
    "\n",
    "        if len(scores) < 1 or scores[0] < 0.4:\n",
    "            return \"UNKNOWN\";\n",
    "\n",
    "        cls = classes[0]\n",
    "        print(cls, scores[0])\n",
    "\n",
    "        if cls == 1:\n",
    "            return \"RED\"\n",
    "        elif cls == 2:\n",
    "            return \"YELLOW\"\n",
    "        elif cls == 3:\n",
    "            return \"GREEN\"\n",
    "\n",
    "        return \"UNKNOWN\"\n",
    "\n",
    "        \n",
    "PATH_TO_TEST_IMAGES_DIR = 'test_images_sim'\n",
    "TEST_IMAGE_NUMS = [\"0020\", \"0075\", \"0091\", \"0239\"]\n",
    "TEST_IMAGE_PATHS = [ os.path.join(PATH_TO_TEST_IMAGES_DIR, 'frame{}.jpg'.format(i)) for i in TEST_IMAGE_NUMS ]\n",
    "\n",
    "tl = TLClassifier()\n",
    "\n",
    "for image_path in TEST_IMAGE_PATHS:\n",
    "    image = Image.open(image_path)\n",
    "    image_np = load_image_into_numpy_array(image)\n",
    "    print(tl.get_classification(image_np))\n"
   ]
  }
 ],
 "metadata": {
  "kernelspec": {
   "display_name": "Python 2",
   "language": "python",
   "name": "python2"
  },
  "language_info": {
   "codemirror_mode": {
    "name": "ipython",
    "version": 2
   },
   "file_extension": ".py",
   "mimetype": "text/x-python",
   "name": "python",
   "nbconvert_exporter": "python",
   "pygments_lexer": "ipython2",
   "version": "2.7.14"
  }
 },
 "nbformat": 4,
 "nbformat_minor": 2
}
